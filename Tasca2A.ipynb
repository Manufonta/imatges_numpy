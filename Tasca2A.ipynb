{
 "cells": [
  {
   "cell_type": "markdown",
   "metadata": {},
   "source": [
    "# Tasca 2A: Estructura de una Matriu"
   ]
  },
  {
   "cell_type": "code",
   "execution_count": 1,
   "metadata": {},
   "outputs": [],
   "source": [
    "import numpy as np\n",
    "from numpy import random"
   ]
  },
  {
   "cell_type": "markdown",
   "metadata": {},
   "source": [
    "## Ejercicio 1\n",
    "\n",
    "Crea un np.array de una dimensión, que incluya al menos 8 números enteros, data type int64. Muestra la dimensión y la forma de la matriz."
   ]
  },
  {
   "cell_type": "code",
   "execution_count": 3,
   "metadata": {},
   "outputs": [
    {
     "data": {
      "text/plain": [
       "array([47, 98, 58, 35, 58, 28,  5, 93, 85, 70, 68, 87])"
      ]
     },
     "execution_count": 3,
     "metadata": {},
     "output_type": "execute_result"
    }
   ],
   "source": [
    "vector = random.randint(100, size = (12))\n",
    "vector"
   ]
  },
  {
   "cell_type": "code",
   "execution_count": 13,
   "metadata": {},
   "outputs": [
    {
     "name": "stdout",
     "output_type": "stream",
     "text": [
      "Número de dimensiones: 1\n",
      "Forma de la matriz: (12,)\n"
     ]
    }
   ],
   "source": [
    "print('Número de dimensiones:',vector.ndim)\n",
    "print('Forma de la matriz:', vector.shape)"
   ]
  },
  {
   "cell_type": "markdown",
   "metadata": {},
   "source": [
    "## Ejercicio 2\n",
    "\n",
    "De la matriz anterior, calcula el valor medio de los valores introducidos y resta la media de cada uno de los valores de la matriz."
   ]
  },
  {
   "cell_type": "code",
   "execution_count": 29,
   "metadata": {},
   "outputs": [
    {
     "name": "stdout",
     "output_type": "stream",
     "text": [
      "[-14.  37.  -3. -26.  -3. -33. -56.  32.  24.   9.   7.  26.]\n"
     ]
    }
   ],
   "source": [
    "vector.mean\n",
    "print(vector - vector.mean())"
   ]
  },
  {
   "cell_type": "markdown",
   "metadata": {},
   "source": [
    "## Ejercicio 3\n",
    "\n",
    "Crea una matriz bidimensional con una forma de 5x5. \n",
    "Extrae el valor máximo de la matriz y el valor máximo de cada uno de sus ejes."
   ]
  },
  {
   "cell_type": "code",
   "execution_count": 31,
   "metadata": {},
   "outputs": [
    {
     "data": {
      "text/plain": [
       "array([[60, 31, 92, 68, 38],\n",
       "       [49, 74, 26, 16, 38],\n",
       "       [ 1, 17, 11, 14, 13],\n",
       "       [83, 40, 86,  0, 16],\n",
       "       [94, 22, 57, 37, 41]])"
      ]
     },
     "execution_count": 31,
     "metadata": {},
     "output_type": "execute_result"
    }
   ],
   "source": [
    "m = random.randint(100, size = (5,5))\n",
    "m"
   ]
  },
  {
   "cell_type": "code",
   "execution_count": 37,
   "metadata": {},
   "outputs": [
    {
     "name": "stdout",
     "output_type": "stream",
     "text": [
      "Valor máximo de la matriz: 94\n",
      "Valor máximo por columna: [94 74 92 68 41]\n",
      "Valor máximo por fila: [92 74 17 86 94]\n"
     ]
    }
   ],
   "source": [
    "print('Valor máximo de la matriz:',m.max())\n",
    "print('Valor máximo por columna:', m.max(axis=0))\n",
    "print('Valor máximo por fila:', m.max(axis=1))"
   ]
  },
  {
   "cell_type": "markdown",
   "metadata": {},
   "source": [
    "## Ejercicio 4\n",
    "\n",
    "Muestra con ejemplos de diferentes matrices la regla fundamental de Broadcasting"
   ]
  },
  {
   "cell_type": "code",
   "execution_count": 44,
   "metadata": {},
   "outputs": [
    {
     "name": "stdout",
     "output_type": "stream",
     "text": [
      "a = [[1 7 5 7 2]\n",
      " [5 6 2 3 4]\n",
      " [3 6 4 7 3]\n",
      " [9 8 9 8 8]\n",
      " [5 6 0 3 6]]\n",
      "b = [[7 6 1 4 9]\n",
      " [0 0 9 5 3]\n",
      " [7 9 9 4 1]\n",
      " [1 6 3 0 9]\n",
      " [5 6 1 3 3]]\n"
     ]
    }
   ],
   "source": [
    "a = random.randint(10, size = (5,5))\n",
    "b = random.randint(10, size = (5,5))\n",
    "print('a =',a)\n",
    "print('b =',b)"
   ]
  },
  {
   "cell_type": "code",
   "execution_count": 46,
   "metadata": {},
   "outputs": [
    {
     "name": "stdout",
     "output_type": "stream",
     "text": [
      "[[ 8 13  6 11 11]\n",
      " [ 5  6 11  8  7]\n",
      " [10 15 13 11  4]\n",
      " [10 14 12  8 17]\n",
      " [10 12  1  6  9]]\n"
     ]
    }
   ],
   "source": [
    "# a y b tienen la misma dimensión y coinciden, por lo que se pueden sumar\n",
    "print (a + b)"
   ]
  },
  {
   "cell_type": "code",
   "execution_count": 47,
   "metadata": {},
   "outputs": [
    {
     "name": "stdout",
     "output_type": "stream",
     "text": [
      "a = [[0 6 4 6 1]\n",
      " [9 2 6 4 7]\n",
      " [9 8 7 8 5]\n",
      " [9 6 5 0 2]\n",
      " [6 5 7 2 5]\n",
      " [8 1 8 5 8]\n",
      " [1 5 9 5 4]\n",
      " [0 5 5 3 6]\n",
      " [7 7 3 1 0]\n",
      " [4 4 0 1 4]]\n",
      "b = [[3 9 2 8 0]\n",
      " [6 9 5 7 2]\n",
      " [5 6 0 6 6]\n",
      " [3 5 2 0 9]\n",
      " [8 7 8 0 7]]\n"
     ]
    }
   ],
   "source": [
    "a = random.randint(10, size = (10,5))\n",
    "b = random.randint(10, size = (5,5))\n",
    "print('a =',a)\n",
    "print('b =',b)"
   ]
  },
  {
   "cell_type": "code",
   "execution_count": 51,
   "metadata": {},
   "outputs": [
    {
     "ename": "ValueError",
     "evalue": "operands could not be broadcast together with shapes (10,5) (5,5) ",
     "output_type": "error",
     "traceback": [
      "\u001b[0;31m---------------------------------------------------------------------------\u001b[0m",
      "\u001b[0;31mValueError\u001b[0m                                Traceback (most recent call last)",
      "\u001b[0;32m<ipython-input-51-7f40ef7a6f00>\u001b[0m in \u001b[0;36m<module>\u001b[0;34m\u001b[0m\n\u001b[1;32m      1\u001b[0m \u001b[0;31m# Ahora no todas las dimensiones coinciden, por lo que no se puede realziar la suma\u001b[0m\u001b[0;34m\u001b[0m\u001b[0;34m\u001b[0m\u001b[0;34m\u001b[0m\u001b[0m\n\u001b[0;32m----> 2\u001b[0;31m \u001b[0mprint\u001b[0m\u001b[0;34m(\u001b[0m\u001b[0ma\u001b[0m\u001b[0;34m+\u001b[0m\u001b[0mb\u001b[0m\u001b[0;34m)\u001b[0m\u001b[0;34m\u001b[0m\u001b[0;34m\u001b[0m\u001b[0m\n\u001b[0m",
      "\u001b[0;31mValueError\u001b[0m: operands could not be broadcast together with shapes (10,5) (5,5) "
     ]
    }
   ],
   "source": [
    "# Ahora no todas las dimensiones coinciden, por lo que no se puede realziar la suma\n",
    "print(a+b)"
   ]
  },
  {
   "cell_type": "code",
   "execution_count": 52,
   "metadata": {},
   "outputs": [
    {
     "name": "stdout",
     "output_type": "stream",
     "text": [
      "a = [[4]\n",
      " [9]\n",
      " [6]\n",
      " [4]\n",
      " [4]]\n",
      "b = [[9 8 4 9 5]\n",
      " [2 8 8 8 8]\n",
      " [9 1 0 0 4]\n",
      " [9 6 6 6 5]\n",
      " [1 0 5 9 9]]\n"
     ]
    }
   ],
   "source": [
    "a = random.randint(10, size = (5,1))\n",
    "b = random.randint(10, size = (5,5))\n",
    "print('a =',a)\n",
    "print('b =',b)"
   ]
  },
  {
   "cell_type": "code",
   "execution_count": 54,
   "metadata": {},
   "outputs": [
    {
     "name": "stdout",
     "output_type": "stream",
     "text": [
      "[[13 12  8 13  9]\n",
      " [11 17 17 17 17]\n",
      " [15  7  6  6 10]\n",
      " [13 10 10 10  9]\n",
      " [ 5  4  9 13 13]]\n"
     ]
    }
   ],
   "source": [
    "# en este último caso, aunque no coinciden todas las dimensiones, una de ellas es 1\n",
    "print(a+b)"
   ]
  },
  {
   "cell_type": "markdown",
   "metadata": {},
   "source": [
    "## Ejercicio 5\n",
    "\n",
    "Utiliza la indexación para extraer los valores de una fila y una columna de la matriz, y suma sus valores."
   ]
  },
  {
   "cell_type": "code",
   "execution_count": 55,
   "metadata": {},
   "outputs": [
    {
     "data": {
      "text/plain": [
       "array([60, 31, 92, 68, 38])"
      ]
     },
     "execution_count": 55,
     "metadata": {},
     "output_type": "execute_result"
    }
   ],
   "source": [
    "fila = m[0,:]\n",
    "fila"
   ]
  },
  {
   "cell_type": "code",
   "execution_count": 56,
   "metadata": {},
   "outputs": [
    {
     "data": {
      "text/plain": [
       "array([60, 49,  1, 83, 94])"
      ]
     },
     "execution_count": 56,
     "metadata": {},
     "output_type": "execute_result"
    }
   ],
   "source": [
    "columna = m[:,0]\n",
    "columna"
   ]
  },
  {
   "cell_type": "code",
   "execution_count": 57,
   "metadata": {},
   "outputs": [
    {
     "name": "stdout",
     "output_type": "stream",
     "text": [
      "[120  80  93 151 132]\n"
     ]
    }
   ],
   "source": [
    "print(fila + columna)"
   ]
  },
  {
   "cell_type": "markdown",
   "metadata": {},
   "source": [
    "## Ejercicio 6\n",
    "\n",
    "Realiza un cálculo booleano vectorizado, cogiendo cada elemento y comprobando si es divisible entre 4."
   ]
  },
  {
   "cell_type": "code",
   "execution_count": 60,
   "metadata": {},
   "outputs": [
    {
     "data": {
      "text/plain": [
       "array([[ True, False,  True,  True, False],\n",
       "       [False, False, False,  True, False],\n",
       "       [False, False, False, False, False],\n",
       "       [False,  True, False,  True,  True],\n",
       "       [False, False, False, False, False]])"
      ]
     },
     "execution_count": 60,
     "metadata": {},
     "output_type": "execute_result"
    }
   ],
   "source": [
    "divisible_4 = m % 4 ==0\n",
    "divisible_4"
   ]
  },
  {
   "cell_type": "markdown",
   "metadata": {},
   "source": [
    "## Ejercicio 7\n",
    "\n",
    "A continuación, utiliza esta máscara para indexar la matriz de números original. Esto reduce su dimensión pero se obtienen los datos buscados."
   ]
  },
  {
   "cell_type": "code",
   "execution_count": 61,
   "metadata": {},
   "outputs": [
    {
     "data": {
      "text/plain": [
       "array([60, 92, 68, 16, 40,  0, 16])"
      ]
     },
     "execution_count": 61,
     "metadata": {},
     "output_type": "execute_result"
    }
   ],
   "source": [
    "m[divisible_4]"
   ]
  },
  {
   "cell_type": "markdown",
   "metadata": {},
   "source": [
    "## Ejercicio 8\n",
    "\n",
    "Manipulación de imágenes con Matplotlib"
   ]
  },
  {
   "cell_type": "code",
   "execution_count": 99,
   "metadata": {},
   "outputs": [],
   "source": [
    "import matplotlib.image as mpimg"
   ]
  },
  {
   "cell_type": "code",
   "execution_count": 100,
   "metadata": {},
   "outputs": [
    {
     "data": {
      "text/plain": [
       "array([[[ 27,  29,  15],\n",
       "        [ 34,  35,  19],\n",
       "        [ 42,  41,  23],\n",
       "        ...,\n",
       "        [ 64,  59,  39],\n",
       "        [ 65,  60,  40],\n",
       "        [ 65,  60,  40]],\n",
       "\n",
       "       [[ 27,  28,  14],\n",
       "        [ 34,  35,  19],\n",
       "        [ 43,  42,  24],\n",
       "        ...,\n",
       "        [ 64,  59,  39],\n",
       "        [ 65,  60,  40],\n",
       "        [ 65,  60,  40]],\n",
       "\n",
       "       [[ 25,  26,  12],\n",
       "        [ 32,  33,  17],\n",
       "        [ 42,  41,  23],\n",
       "        ...,\n",
       "        [ 64,  59,  39],\n",
       "        [ 64,  59,  39],\n",
       "        [ 64,  59,  39]],\n",
       "\n",
       "       ...,\n",
       "\n",
       "       [[ 68,  38,  14],\n",
       "        [ 81,  49,  24],\n",
       "        [ 70,  34,   8],\n",
       "        ...,\n",
       "        [105,  88,  68],\n",
       "        [ 89,  72,  52],\n",
       "        [107,  90,  70]],\n",
       "\n",
       "       [[ 69,  39,  15],\n",
       "        [ 72,  40,  15],\n",
       "        [ 82,  46,  20],\n",
       "        ...,\n",
       "        [105,  82,  64],\n",
       "        [101,  78,  60],\n",
       "        [121,  98,  80]],\n",
       "\n",
       "       [[ 51,  28,  10],\n",
       "        [ 56,  27,  13],\n",
       "        [ 75,  41,  16],\n",
       "        ...,\n",
       "        [ 96,  77,  62],\n",
       "        [108,  89,  74],\n",
       "        [ 96,  77,  60]]], dtype=uint8)"
      ]
     },
     "execution_count": 100,
     "metadata": {},
     "output_type": "execute_result"
    }
   ],
   "source": [
    "puma = mpimg.imread('original.jpeg')\n",
    "puma"
   ]
  },
  {
   "cell_type": "code",
   "execution_count": 101,
   "metadata": {},
   "outputs": [
    {
     "data": {
      "text/plain": [
       "(353, 491, 3)"
      ]
     },
     "execution_count": 101,
     "metadata": {},
     "output_type": "execute_result"
    }
   ],
   "source": [
    "puma.shape"
   ]
  },
  {
   "cell_type": "code",
   "execution_count": 102,
   "metadata": {},
   "outputs": [
    {
     "ename": "ValueError",
     "evalue": "assignment destination is read-only",
     "output_type": "error",
     "traceback": [
      "\u001b[0;31m---------------------------------------------------------------------------\u001b[0m",
      "\u001b[0;31mValueError\u001b[0m                                Traceback (most recent call last)",
      "\u001b[0;32m<ipython-input-102-38730e4b5926>\u001b[0m in \u001b[0;36m<module>\u001b[0;34m\u001b[0m\n\u001b[1;32m      1\u001b[0m \u001b[0mpuma2\u001b[0m \u001b[0;34m=\u001b[0m \u001b[0mpuma\u001b[0m\u001b[0;34m\u001b[0m\u001b[0;34m\u001b[0m\u001b[0m\n\u001b[0;32m----> 2\u001b[0;31m \u001b[0mpuma2\u001b[0m\u001b[0;34m[\u001b[0m\u001b[0;34m:\u001b[0m\u001b[0;34m,\u001b[0m\u001b[0;34m:\u001b[0m\u001b[0;34m,\u001b[0m\u001b[0;36m2\u001b[0m\u001b[0;34m]\u001b[0m \u001b[0;34m=\u001b[0m \u001b[0;36m0\u001b[0m\u001b[0;34m\u001b[0m\u001b[0;34m\u001b[0m\u001b[0m\n\u001b[0m",
      "\u001b[0;31mValueError\u001b[0m: assignment destination is read-only"
     ]
    }
   ],
   "source": [
    "puma2 = puma \n",
    "puma2[:,:,2] = 0"
   ]
  },
  {
   "cell_type": "code",
   "execution_count": 103,
   "metadata": {},
   "outputs": [
    {
     "data": {
      "text/plain": [
       "  C_CONTIGUOUS : True\n",
       "  F_CONTIGUOUS : False\n",
       "  OWNDATA : False\n",
       "  WRITEABLE : False\n",
       "  ALIGNED : True\n",
       "  WRITEBACKIFCOPY : False\n",
       "  UPDATEIFCOPY : False"
      ]
     },
     "execution_count": 103,
     "metadata": {},
     "output_type": "execute_result"
    }
   ],
   "source": [
    "puma.flags\n",
    "#Está puesto como solo lectura"
   ]
  },
  {
   "cell_type": "code",
   "execution_count": 104,
   "metadata": {},
   "outputs": [
    {
     "ename": "ValueError",
     "evalue": "cannot set WRITEABLE flag to True of this array",
     "output_type": "error",
     "traceback": [
      "\u001b[0;31m---------------------------------------------------------------------------\u001b[0m",
      "\u001b[0;31mValueError\u001b[0m                                Traceback (most recent call last)",
      "\u001b[0;32m<ipython-input-104-a532475ea70f>\u001b[0m in \u001b[0;36m<module>\u001b[0;34m\u001b[0m\n\u001b[0;32m----> 1\u001b[0;31m \u001b[0mpuma\u001b[0m\u001b[0;34m.\u001b[0m\u001b[0msetflags\u001b[0m\u001b[0;34m(\u001b[0m\u001b[0mwrite\u001b[0m\u001b[0;34m=\u001b[0m\u001b[0;36m1\u001b[0m\u001b[0;34m)\u001b[0m\u001b[0;34m\u001b[0m\u001b[0;34m\u001b[0m\u001b[0m\n\u001b[0m\u001b[1;32m      2\u001b[0m \u001b[0mpuma\u001b[0m\u001b[0;34m.\u001b[0m\u001b[0mflags\u001b[0m\u001b[0;34m\u001b[0m\u001b[0;34m\u001b[0m\u001b[0m\n",
      "\u001b[0;31mValueError\u001b[0m: cannot set WRITEABLE flag to True of this array"
     ]
    }
   ],
   "source": [
    "puma.setflags(write=1)\n",
    "puma.flags"
   ]
  },
  {
   "cell_type": "code",
   "execution_count": 105,
   "metadata": {},
   "outputs": [],
   "source": [
    "# como no se puede cambiar, es necesario hacer una copia\n",
    "puma = puma.copy()"
   ]
  },
  {
   "cell_type": "code",
   "execution_count": 106,
   "metadata": {},
   "outputs": [
    {
     "data": {
      "text/plain": [
       "  C_CONTIGUOUS : True\n",
       "  F_CONTIGUOUS : False\n",
       "  OWNDATA : True\n",
       "  WRITEABLE : True\n",
       "  ALIGNED : True\n",
       "  WRITEBACKIFCOPY : False\n",
       "  UPDATEIFCOPY : False"
      ]
     },
     "execution_count": 106,
     "metadata": {},
     "output_type": "execute_result"
    }
   ],
   "source": [
    "puma.setflags(write=1)\n",
    "puma.flags"
   ]
  },
  {
   "cell_type": "code",
   "execution_count": 107,
   "metadata": {},
   "outputs": [],
   "source": [
    "puma2 = puma\n",
    "puma2[:,:,2] = 0"
   ]
  },
  {
   "cell_type": "code",
   "execution_count": 108,
   "metadata": {},
   "outputs": [],
   "source": [
    "mpimg.imsave('sinazul.jpeg', puma2)"
   ]
  },
  {
   "cell_type": "code",
   "execution_count": 110,
   "metadata": {},
   "outputs": [],
   "source": [
    "puma2[:,:,1] = 0\n",
    "mpimg.imsave('sinazulniverde.png', puma2)"
   ]
  },
  {
   "cell_type": "code",
   "execution_count": null,
   "metadata": {},
   "outputs": [],
   "source": []
  }
 ],
 "metadata": {
  "kernelspec": {
   "display_name": "Python 3",
   "language": "python",
   "name": "python3"
  },
  "language_info": {
   "codemirror_mode": {
    "name": "ipython",
    "version": 3
   },
   "file_extension": ".py",
   "mimetype": "text/x-python",
   "name": "python",
   "nbconvert_exporter": "python",
   "pygments_lexer": "ipython3",
   "version": "3.8.5"
  }
 },
 "nbformat": 4,
 "nbformat_minor": 4
}
